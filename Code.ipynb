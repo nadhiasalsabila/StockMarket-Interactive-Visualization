{
 "cells": [
  {
   "cell_type": "code",
   "execution_count": 1,
   "metadata": {},
   "outputs": [],
   "source": [
    "import bokeh\n",
    "from bokeh.plotting import figure, output_file, show\n",
    "import numpy as np\n",
    "import pandas as pd\n",
    "from bokeh.models import (CategoricalColorMapper, HoverTool, \n",
    "\t\t\t\t\t\t  ColumnDataSource, Panel, \n",
    "\t\t\t\t\t\t  FuncTickFormatter, SingleIntervalTicker, LinearAxis)\n",
    "from bokeh.models.widgets import (CheckboxGroup, Slider, RangeSlider, \n",
    "\t\t\t\t\t\t\t\t  Tabs, CheckboxButtonGroup, \n",
    "\t\t\t\t\t\t\t\t  TableColumn, DataTable, Select)\n",
    "from bokeh.layouts import column, row, WidgetBox\n",
    "from bokeh.palettes import Spectral4\n",
    "from bokeh.models.widgets import Panel\n",
    "from bokeh.io import curdoc\n",
    "from bokeh.models.widgets import Tabs"
   ]
  },
  {
   "cell_type": "code",
   "execution_count": 2,
   "metadata": {},
   "outputs": [],
   "source": [
    "data = pd.read_csv(\"market-index.csv\")"
   ]
  },
  {
   "cell_type": "code",
   "execution_count": 3,
   "metadata": {},
   "outputs": [],
   "source": [
    "IDX_Adj = data[[\"Date\",\"Adj Close\",'Stock']].where(data['Stock'] == 'IDX').dropna()\n",
    "NIKKEI_Adj = data[[\"Date\",\"Adj Close\",'Stock']].where(data['Stock'] == 'NIKKEI').dropna()\n",
    "NASDAQ_Adj = data[[\"Date\",\"Adj Close\",'Stock']].where(data['Stock'] == 'NASDAQ').dropna()"
   ]
  },
  {
   "cell_type": "code",
   "execution_count": 4,
   "metadata": {},
   "outputs": [],
   "source": [
    "IDX_Vol = data[[\"Date\",\"Volume\",'Stock']].where(data['Stock'] == 'IDX').dropna()\n",
    "NIKKEI_Vol = data[[\"Date\",\"Volume\",'Stock']].where(data['Stock'] == 'NIKKEI').dropna()\n",
    "NASDAQ_Vol = data[[\"Date\",\"Volume\",'Stock']].where(data['Stock'] == 'NASDAQ').dropna()"
   ]
  },
  {
   "cell_type": "code",
   "execution_count": 5,
   "metadata": {},
   "outputs": [],
   "source": [
    "IDX_DPC = data[[\"Date\",\"Day_Perc_Change\",'Stock']].where(data['Stock'] == 'IDX').dropna()\n",
    "NIKKEI_DPC = data[[\"Date\",\"Day_Perc_Change\",'Stock']].where(data['Stock'] == 'NIKKEI').dropna()\n",
    "NASDAQ_DPC = data[[\"Date\",\"Day_Perc_Change\",'Stock']].where(data['Stock'] == 'NASDAQ').dropna()"
   ]
  },
  {
   "cell_type": "code",
   "execution_count": 6,
   "metadata": {},
   "outputs": [],
   "source": [
    "p = figure(plot_width=800, plot_height=250, x_axis_type=\"datetime\", tools=[\"pan\",\"box_zoom\",\"reset\",\"save\",\"box_select\",\"hover\"])\n",
    "for datas, name, color in zip([NIKKEI_Adj, NASDAQ_Adj, IDX_Adj], [\"NIKKEI\", \"NASDAQ\", \"IDX\"], Spectral4):\n",
    "    df = pd.DataFrame(datas)\n",
    "    df['Date'] = pd.to_datetime(df['Date'])\n",
    "    source = ColumnDataSource(df)\n",
    "    p.line(x='Date', y='Adj Close', source=source,line_width=2, color=color, alpha=0.8, legend_label=name)\n",
    "    hover = p.select(dict(type=HoverTool))\n",
    "    hover.tooltips = [(\"Index\", \"$index\"),(\"Stock\", \"@Stock\"),(\"(x,y)\", \"($x, $y)\"),]\n",
    "    hover.mode = 'mouse'\n",
    "\n",
    "p.legend.location = \"top_left\"\n",
    "p.legend.click_policy=\"hide\"\n",
    "\n",
    "p2 = figure(plot_width=800, plot_height=250, x_axis_type=\"datetime\", tools=[\"pan\",\"box_zoom\",\"reset\",\"save\",\"box_select\",\"hover\"])\n",
    "for datas, name, color in zip([NIKKEI_DPC, NASDAQ_DPC, IDX_DPC], [\"NIKKEI\", \"NASDAQ\", \"IDX\"], Spectral4):\n",
    "    df = pd.DataFrame(datas)\n",
    "    df['Date'] = pd.to_datetime(df['Date'])\n",
    "    source = ColumnDataSource(df)\n",
    "    p2.line(x='Date', y='Day_Perc_Change', source=source,line_width=2, color=color, alpha=0.8, legend_label=name)\n",
    "    hover = p2.select(dict(type=HoverTool))\n",
    "    hover.tooltips = [(\"Index\", \"$index\"),(\"Stock\", \"@Stock\"),(\"(x,y)\", \"($x, $y)\"),]\n",
    "    hover.mode = 'mouse'\n",
    "\n",
    "p2.legend.location = \"top_left\"\n",
    "p2.legend.click_policy=\"hide\"\n",
    "\n",
    "p3 = figure(plot_width=800, plot_height=250, x_axis_type=\"datetime\", tools=[\"pan\",\"box_zoom\",\"reset\",\"save\",\"box_select\",\"hover\"])\n",
    "for datas, name, color in zip([NIKKEI_Vol, NASDAQ_Vol, IDX_Vol], [\"NIKKEI\", \"NASDAQ\", \"IDX\"], Spectral4):\n",
    "    df = pd.DataFrame(datas)\n",
    "    df['Date'] = pd.to_datetime(df['Date'])\n",
    "    source = ColumnDataSource(df)\n",
    "    p3.line(x='Date', y='Volume', source=source,line_width=2, color=color, alpha=0.8, legend_label=name)\n",
    "    hover = p3.select(dict(type=HoverTool))\n",
    "    hover.tooltips = [(\"Index\", \"$index\"),(\"Stock\", \"@Stock\"),(\"(x,y)\", \"($x, $y)\"),]\n",
    "    hover.mode = 'mouse'\n",
    "\n",
    "p3.legend.location = \"top_left\"\n",
    "p3.legend.click_policy=\"hide\"\n",
    "\n",
    "output_file(\"interactive_visualization.html\", title=\"Interactive Market-Index Visualization \")\n",
    "\n",
    "tab1 = Panel(child=p, title='Adj Close')\n",
    "tab2 = Panel(child=p2, title='Day_Perc_Change')\n",
    "tab3 = Panel(child=p3, title='Volume')\n",
    "layout = Tabs(tabs=[tab1,tab2,tab3])\n",
    "show(layout)"
   ]
  }
 ],
 "metadata": {
  "kernelspec": {
   "display_name": "Python 3",
   "language": "python",
   "name": "python3"
  },
  "language_info": {
   "codemirror_mode": {
    "name": "ipython",
    "version": 3
   },
   "file_extension": ".py",
   "mimetype": "text/x-python",
   "name": "python",
   "nbconvert_exporter": "python",
   "pygments_lexer": "ipython3",
   "version": "3.8.3"
  }
 },
 "nbformat": 4,
 "nbformat_minor": 4
}
